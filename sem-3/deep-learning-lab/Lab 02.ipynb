{
 "cells": [
  {
   "cell_type": "markdown",
   "id": "05554150",
   "metadata": {},
   "source": [
    "#### Name - Aakash Jain.\n",
    "\n",
    "#### Roll No. - 222010019.\n",
    "\n",
    "#### Subject - Deep Learning Laboratory.\n",
    "\n",
    "#### Lab No. 2 - Implement Artificial Neural Networks: McCulloch-Pitts Neuron with AND, OR, NOR and NOT functions. Upload Jupyter Notebook."
   ]
  },
  {
   "cell_type": "markdown",
   "id": "05cb895e",
   "metadata": {},
   "source": [
    "#### 1. AND Function.\n",
    "Let x<sub>1</sub>, x<sub>2</sub>, x<sub>3</sub>, ..., x<sub>n</sub> be the inputs, y be the output, g(x) be the aggragator function and f(g(x)) be the decision function.\n",
    "\n",
    "For the AND function:\n",
    "y = f(g(x)) = 1 if and only if g(x<sub>1</sub>, x<sub>2</sub>, x<sub>3</sub>, ..., x<sub>n</sub>) = g(**x**) = $\\sum \\limits_{i=1}^{n} x_{i}$ >= n\n",
    "else 0.  \n",
    "i.e. for AND function $\\theta$  = n.\n"
   ]
  },
  {
   "cell_type": "code",
   "execution_count": 1,
   "id": "cfc19f11",
   "metadata": {},
   "outputs": [
    {
     "name": "stdout",
     "output_type": "stream",
     "text": [
      "AND(0, 0): False.\n",
      "AND(0, 1): False.\n",
      "AND(1, 0): False.\n",
      "AND(1, 1): True.\n"
     ]
    }
   ],
   "source": [
    "def AND(*x):\n",
    "    for value in x:\n",
    "        if not value:\n",
    "            return False\n",
    "    return True\n",
    "#     return sum(x) >= len(x)\n",
    "#     return all(x)\n",
    "\n",
    "print(f\"AND(0, 0): {AND(0, 0)}.\")\n",
    "print(f\"AND(0, 1): {AND(0, 1)}.\")\n",
    "print(f\"AND(1, 0): {AND(1, 0)}.\")\n",
    "print(f\"AND(1, 1): {AND(1, 1)}.\")"
   ]
  },
  {
   "cell_type": "markdown",
   "id": "f5b5a937",
   "metadata": {},
   "source": [
    "#### 2. OR Function.\n",
    "Let x<sub>1</sub>, x<sub>2</sub>, x<sub>3</sub>, ..., x<sub>n</sub> be the inputs, y be the output, g(x) be the aggragator function and f(g(x)) be the decision function.\n",
    "\n",
    "For the OR function:\n",
    "y = f(g(x)) = 1 if g(x<sub>1</sub>, x<sub>2</sub>, x<sub>3</sub>, ..., x<sub>n</sub>) = g(**x**) = $\\sum \\limits_{i=1}^{n} x_{i}$ >= 1 else 0.  \n",
    "i.e. for OR function $\\theta$ = 1.\n",
    "\n"
   ]
  },
  {
   "cell_type": "code",
   "execution_count": 2,
   "id": "1c921868",
   "metadata": {},
   "outputs": [
    {
     "name": "stdout",
     "output_type": "stream",
     "text": [
      "OR(0, 0): False.\n",
      "OR(0, 1): True.\n",
      "OR(1, 0): True.\n",
      "OR(1, 1): True.\n"
     ]
    }
   ],
   "source": [
    "def OR(*x):\n",
    "    for value in x:\n",
    "        if value:\n",
    "            return True\n",
    "    return False\n",
    "#     return sum(x) >= 1\n",
    "#     return any(x)\n",
    "\n",
    "print(f\"OR(0, 0): {OR(0, 0)}.\")\n",
    "print(f\"OR(0, 1): {OR(0, 1)}.\")\n",
    "print(f\"OR(1, 0): {OR(1, 0)}.\")\n",
    "print(f\"OR(1, 1): {OR(1, 1)}.\")"
   ]
  },
  {
   "cell_type": "markdown",
   "id": "5fe1bf98",
   "metadata": {},
   "source": [
    "#### 3. NOR Function.\n",
    "Let x<sub>1</sub>, x<sub>2</sub>, x<sub>3</sub>, ..., x<sub>n</sub> be the inputs, y be the output, g(x) be the aggragator function and f(g(x)) be the decision function.\n",
    "\n",
    "For the NOR function:\n",
    "y = f(g(x)) = 1 if g(x<sub>1</sub>, x<sub>2</sub>, x<sub>3</sub>, ..., x<sub>n</sub>) = g(**x**) = $\\sum \\limits_{i=1}^{n} x_{i}$ = 0 else 0.  \n",
    "i.e. for NOR function $\\theta$ = 0."
   ]
  },
  {
   "cell_type": "code",
   "execution_count": 3,
   "id": "19b503ef",
   "metadata": {},
   "outputs": [
    {
     "name": "stdout",
     "output_type": "stream",
     "text": [
      "NOR(0, 0): True.\n",
      "NOR(0, 1): False.\n",
      "NOR(1, 0): False.\n",
      "NOR(1, 1): False.\n"
     ]
    }
   ],
   "source": [
    "def NOR(*x):\n",
    "    for value in x:\n",
    "        if value:\n",
    "            return False\n",
    "    return True\n",
    "#     return sum(x) == 0\n",
    "#     return not any(x)\n",
    "\n",
    "print(f\"NOR(0, 0): {NOR(0, 0)}.\")\n",
    "print(f\"NOR(0, 1): {NOR(0, 1)}.\")\n",
    "print(f\"NOR(1, 0): {NOR(1, 0)}.\")\n",
    "print(f\"NOR(1, 1): {NOR(1, 1)}.\")"
   ]
  },
  {
   "cell_type": "markdown",
   "id": "9a2958f5",
   "metadata": {},
   "source": [
    "#### 4. NOT Function.\n",
    "Let x be the input, y be the output, g(x) be the aggragator function and f(g(x)) be the decision function.\n",
    "\n",
    "For the NOT function:\n",
    "y = f(g(x)) = 1 if g(**x**) = x = 0 else 0.  \n",
    "i.e. for NOT function $\\theta$ = 0."
   ]
  },
  {
   "cell_type": "code",
   "execution_count": 4,
   "id": "31a81879",
   "metadata": {},
   "outputs": [
    {
     "name": "stdout",
     "output_type": "stream",
     "text": [
      "NOT(0): True.\n",
      "NOT(1): False.\n"
     ]
    }
   ],
   "source": [
    "def NOT(x):\n",
    "    if x:\n",
    "        return False\n",
    "    return True\n",
    "#     return not x\n",
    "\n",
    "print(f\"NOT(0): {NOT(0)}.\")\n",
    "print(f\"NOT(1): {NOT(1)}.\")"
   ]
  }
 ],
 "metadata": {
  "kernelspec": {
   "display_name": "Python 3 (ipykernel)",
   "language": "python",
   "name": "python3"
  },
  "language_info": {
   "codemirror_mode": {
    "name": "ipython",
    "version": 3
   },
   "file_extension": ".py",
   "mimetype": "text/x-python",
   "name": "python",
   "nbconvert_exporter": "python",
   "pygments_lexer": "ipython3",
   "version": "3.11.0"
  }
 },
 "nbformat": 4,
 "nbformat_minor": 5
}
