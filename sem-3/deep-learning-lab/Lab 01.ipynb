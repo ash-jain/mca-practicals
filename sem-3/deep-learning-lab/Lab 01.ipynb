{
 "cells": [
  {
   "cell_type": "markdown",
   "id": "9056bbe8",
   "metadata": {},
   "source": [
    "#### Name - Aakash Jain.\n",
    "\n",
    "#### Roll No. - 222010019.\n",
    "\n",
    "#### Subject - Deep Learning Laboratory.\n",
    "\n",
    "#### Lab No. 1 - Study of various Deep Learning frameworks including importing libraries and modules. Compare at least five Deep Learning frameworks.\n"
   ]
  },
  {
   "cell_type": "markdown",
   "id": "4903c516",
   "metadata": {},
   "source": [
    "* #### PyTorch.  \n",
    "    \n",
    "PyTorch is a free and open source deep-learning library in Python based on the Torch library. It was originally developed by Meta AI but now it is part of the linux umbrella. PyTorch is written in C, C++ & Python and it provides interface in Python and C++. It was first released in 2016. Primarily used for Research, It has various applications including computer vision, natural language processing, speech recognition and reinforcement learning.\n",
    "\n",
    "Fundamentally PyTorch is a library for programming with Tensors, which are multidimensional arrays used in deep neural networks. PyTorch supports Dynamic Computation Graph (DCG) which allows the models to be optimized at runtime.\n",
    "\n",
    "It facilitates high performance parallel computing on GPUs using nVidia's CUDA platform, which significantly boosts the computational speeds.\n",
    "\n",
    "Real world applications of PyTorch are:\n",
    "* OpenAI's GPT, Whisper and Dall-E.\n",
    "* Tesla's Autopilot.\n",
    "* Uber's Pyro.\n",
    "* Stable Diffusion."
   ]
  },
  {
   "cell_type": "markdown",
   "id": "49d4e607",
   "metadata": {},
   "source": [
    "Let's see how to import PyTorch in Python."
   ]
  },
  {
   "cell_type": "code",
   "execution_count": null,
   "id": "ddad3c16",
   "metadata": {},
   "outputs": [],
   "source": [
    "import torch"
   ]
  },
  {
   "cell_type": "markdown",
   "id": "3c86a29d",
   "metadata": {},
   "source": [
    "The core package comes with a lot of functionalities which include data structures for multi-dimensional tensors and mathematical operations over these tensors. Additionally, it provides many utilities for efficient serialization of Tensors and arbitrary types, and other useful utilities.\n",
    "\n",
    "Central submodule for deep learning though is undoubtedly nn. (Neural Network) Let's see how to import that."
   ]
  },
  {
   "cell_type": "code",
   "execution_count": null,
   "id": "f6594e27",
   "metadata": {},
   "outputs": [],
   "source": [
    "import torch.nn as nn"
   ]
  },
  {
   "cell_type": "markdown",
   "id": "4d8c32e5",
   "metadata": {},
   "source": [
    "Cuda package adds support for CUDA tensor types, that implement the same function as CPU tensors, but they utilize GPUs for computation."
   ]
  },
  {
   "cell_type": "code",
   "execution_count": null,
   "id": "da01d5a8",
   "metadata": {},
   "outputs": [],
   "source": [
    "import torch.cuda as cuda"
   ]
  },
  {
   "cell_type": "markdown",
   "id": "97c4cb6e",
   "metadata": {},
   "source": [
    "* #### TensorFlow.\n",
    "\n",
    "Tensorflow, like PyTorch also a free and open sourced library used for training and building deep neural networks. TensorFlow was developed by the Google Brain team for internal Google use in research and production whose first release was seen in 2015. Tensorflow is written in C++ but provides interface in variety of programming languages like Python, JavaScript, C++ and Java.\n",
    "\n",
    "Main distinctions between the PyTorch as Tensorflow are: \n",
    "1. PyTorch support Dynamic Compuation Graphs while Tensorflow only supports Static Computation Graphs.\n",
    "2. Tensorflow has seen wide adoption in the production whereas PyTorch is highly used in research.  \n",
    "3. TensorFlow can be used in a wide variety of programming languages, including Python, JavaScript, C++, and Java. PyTorch can only be used in Python and C++.\n",
    "4. PyTorch is generally considered more user friendly as compared to the Tensorflow.\n",
    "5. PyTorch code is more verbose as compared to it's Tensorflow counterpart.\n",
    "5. PyTorch is said to be more 'Pythonic' as compared to Tensorflow.\n",
    "\n",
    "Just like PyTorch it also allows the support for parallel compuation of GPUs using the CUDA. Features such as Data Transformations, Visualization, Model Evaluation and Deployment make Tensorflow stand out among its competitors. To put icing on the cake it is also very portable and lightweight. It can run on as small factor as a browser and as big as on a unit consisting of several GPUs. In addition there are also specialized hardware solutions for running Tensorflow based applications called Tensor Processing Units or TPUs. \n",
    "\n",
    "It's applications are:\n",
    "* Google's Rankbrain.\n",
    "* Twitter's Ranking System.\n",
    "* Spotify's Recommendation System.\n",
    "* Paypal's Fraud Detection System.\n",
    "* GE Healthcare's MRI Analysing System.\n",
    "\n",
    "It is imported as:"
   ]
  },
  {
   "cell_type": "code",
   "execution_count": null,
   "id": "1e78a66b",
   "metadata": {},
   "outputs": [],
   "source": [
    "import tensorflow as tf"
   ]
  },
  {
   "cell_type": "markdown",
   "id": "edf30eec",
   "metadata": {},
   "source": [
    "\n",
    "* #### Keras.\n",
    "\n",
    "Keras is an open-source library that provides a Python interface for artificial neural networks. Keras acts as an interface for the TensorFlow library.\n",
    "\n",
    "Keras used to support multiple backends, including TensorFlow, Microsoft Cognitive Toolkit, Theano, and PlaidML. However, now only TensorFlow is supported. Designed to enable fast experimentation with deep neural networks, it focuses on being user-friendly, modular, and extensible.\n",
    "\n",
    "Keras contains numerous implementations of commonly used neural-network building blocks such as layers, objectives, activation functions, optimizers, and a host of tools for working with image and text data to simplify programming in deep neural network area. The code is open source on Github.\n",
    "\n",
    "In addition to standard neural networks, Keras has support for convolutional and recurrent neural networks. It supports other common utility layers like dropout, batch normalization, and pooling."
   ]
  },
  {
   "cell_type": "code",
   "execution_count": null,
   "id": "7914f116",
   "metadata": {},
   "outputs": [],
   "source": [
    "from tensorflow.keras import dataset, layers, models"
   ]
  },
  {
   "cell_type": "markdown",
   "id": "a68a5bc0",
   "metadata": {},
   "source": [
    "* #### Caffe.\n",
    "\n",
    "Caffe (Convolutional Architecture for Fast Feature Embedding) is a deep learning framework, originally developed at University of California, Berkeley. It is open source, under a BSD license. It is written in C++, with a Python interface. It was first released in 2017.\n",
    "\n",
    "Caffe supports many different types of deep learning architectures geared towards image classification and image segmentation. It supports CNN, RCNN, LSTM and fully-connected neural network designs. Caffe supports GPU and CPU-based acceleration computational kernel libraries such as Nvidia cuDNN and Intel MKL.\n",
    "\n",
    "Caffe is being used in academic research projects, startup prototypes, and even large-scale industrial applications in vision, speech, and multimedia. Yahoo! has also integrated Caffe with Apache Spark to create CaffeOnSpark, a distributed deep learning framework.\n",
    "\n",
    "There was a talk of a follow up version of Caffe called Caffe2 which was being developed by Facebook. The project was merged with the PyTorch in 2017."
   ]
  },
  {
   "cell_type": "markdown",
   "id": "31714b5e",
   "metadata": {},
   "source": [
    "* #### Theano.\n",
    "\n",
    "Theano is a Python library and optimizing compiler for manipulating and evaluating mathematical expressions, especially matrix-valued ones. In Theano, computations are expressed using a NumPy-esque syntax and compiled to run efficiently on either CPU or GPU architectures.\n",
    "\n",
    "Theano is an open source project primarily developed by the Montreal Institute for Learning Algorithms (MILA) at the Université de Montréal. It was first released in 2007. It is not currently being developed further."
   ]
  }
 ],
 "metadata": {
  "kernelspec": {
   "display_name": "Python 3 (ipykernel)",
   "language": "python",
   "name": "python3"
  },
  "language_info": {
   "codemirror_mode": {
    "name": "ipython",
    "version": 3
   },
   "file_extension": ".py",
   "mimetype": "text/x-python",
   "name": "python",
   "nbconvert_exporter": "python",
   "pygments_lexer": "ipython3",
   "version": "3.11.0"
  }
 },
 "nbformat": 4,
 "nbformat_minor": 5
}
