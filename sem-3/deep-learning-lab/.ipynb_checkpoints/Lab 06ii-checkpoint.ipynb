{
 "cells": [
  {
   "cell_type": "markdown",
   "metadata": {
    "id": "jynQTO613iRv"
   },
   "source": [
    "### Name - Aakash Jain.\n",
    "### Roll No. - 222010019.\n",
    "### Subject - Deep Learning Lab.\n",
    "### Lab 06 - Implementation of Regularization Techniques (Implement at least 4 Regularization Techniques): \n",
    " ####   a. Dropout \n",
    " ####   b. Early Stopping \n",
    " ####   c. L2 regularization \n",
    " ####   d. L1 regularization etc."
   ]
  },
  {
   "cell_type": "markdown",
   "metadata": {
    "id": "Q9ShTWlD13oX"
   },
   "source": [
    "### Early Stopping\n",
    "In this notebook, we will train an Multi-Layer Perceptron (MLP) to classify images from the [MNIST database](http://yann.lecun.com/exdb/mnist/) hand-written digit database, and use early stopping to stop the training when the model starts to overfit to the training data."
   ]
  },
  {
   "cell_type": "code",
   "execution_count": null,
   "metadata": {
    "id": "qkz0jN8g13oZ"
   },
   "outputs": [],
   "source": [
    "# import libraries\n",
    "import torch\n",
    "import numpy as np\n",
    "import matplotlib.pyplot as plt"
   ]
  },
  {
   "cell_type": "markdown",
   "metadata": {
    "id": "NdF6V29Q13oa"
   },
   "source": [
    "#### Load and Batch the Data"
   ]
  },
  {
   "cell_type": "code",
   "execution_count": null,
   "metadata": {
    "id": "wV4S46yn13oa"
   },
   "outputs": [],
   "source": [
    "from torchvision import datasets\n",
    "import torchvision.transforms as transforms\n",
    "from torch.utils.data.sampler import SubsetRandomSampler\n",
    "\n",
    "def create_datasets(batch_size):\n",
    "\n",
    "    # percentage of training set to use as validation\n",
    "    valid_size = 0.2\n",
    "\n",
    "    # convert data to torch.FloatTensor\n",
    "    transform = transforms.ToTensor()\n",
    "\n",
    "    # choose the training and test datasets\n",
    "    train_data = datasets.MNIST(root='data',\n",
    "                                train=True,\n",
    "                                download=True,\n",
    "                                transform=transform)\n",
    "\n",
    "    test_data = datasets.MNIST(root='data',\n",
    "                               train=False,\n",
    "                               download=True,\n",
    "                               transform=transform)\n",
    "\n",
    "    # obtain training indices that will be used for validation\n",
    "    num_train = len(train_data)\n",
    "    indices = list(range(num_train))\n",
    "    np.random.shuffle(indices)\n",
    "    split = int(np.floor(valid_size * num_train))\n",
    "    train_idx, valid_idx = indices[split:], indices[:split]\n",
    "\n",
    "    # define samplers for obtaining training and validation batches\n",
    "    train_sampler = SubsetRandomSampler(train_idx)\n",
    "    valid_sampler = SubsetRandomSampler(valid_idx)\n",
    "\n",
    "    # load training data in batches\n",
    "    train_loader = torch.utils.data.DataLoader(train_data,\n",
    "                                               batch_size=batch_size,\n",
    "                                               sampler=train_sampler,\n",
    "                                               num_workers=0)\n",
    "\n",
    "    # load validation data in batches\n",
    "    valid_loader = torch.utils.data.DataLoader(train_data,\n",
    "                                               batch_size=batch_size,\n",
    "                                               sampler=valid_sampler,\n",
    "                                               num_workers=0)\n",
    "\n",
    "    # load test data in batches\n",
    "    test_loader = torch.utils.data.DataLoader(test_data,\n",
    "                                              batch_size=batch_size,\n",
    "                                              num_workers=0)\n",
    "\n",
    "    return train_loader, test_loader, valid_loader"
   ]
  },
  {
   "cell_type": "markdown",
   "metadata": {
    "id": "On5YkXyK13ob"
   },
   "source": [
    "#### Define the Network\n",
    "Defining a simple MLP model."
   ]
  },
  {
   "cell_type": "code",
   "execution_count": null,
   "metadata": {
    "colab": {
     "base_uri": "https://localhost:8080/"
    },
    "id": "31ENH0VF13ob",
    "outputId": "ae073fb2-7ba8-4389-cdeb-030da2edbc00"
   },
   "outputs": [
    {
     "name": "stdout",
     "output_type": "stream",
     "text": [
      "Net(\n",
      "  (fc1): Linear(in_features=784, out_features=128, bias=True)\n",
      "  (fc2): Linear(in_features=128, out_features=128, bias=True)\n",
      "  (fc3): Linear(in_features=128, out_features=10, bias=True)\n",
      "  (dropout): Dropout(p=0.5, inplace=False)\n",
      ")\n"
     ]
    }
   ],
   "source": [
    "import torch.nn as nn\n",
    "import torch.nn.functional as F\n",
    "\n",
    "class Net(nn.Module):\n",
    "    def __init__(self):\n",
    "        super(Net, self).__init__()\n",
    "        self.fc1 = nn.Linear(28 * 28, 128)\n",
    "        self.fc2 = nn.Linear(128, 128)\n",
    "        self.fc3 = nn.Linear(128, 10)\n",
    "        self.dropout = nn.Dropout(0.5)\n",
    "\n",
    "    def forward(self, x):\n",
    "        # flatten image input\n",
    "        x = x.view(-1, 28 * 28)\n",
    "        # add hidden layer, with relu activation function\n",
    "        x = F.relu(self.fc1(x))\n",
    "        x = self.dropout(x)\n",
    "        # add hidden layer, with relu activation function\n",
    "        x = F.relu(self.fc2(x))\n",
    "        x = self.dropout(x)\n",
    "        # add output layer\n",
    "        x = self.fc3(x)\n",
    "        return x\n",
    "\n",
    "# initialize the NN\n",
    "model = Net()\n",
    "print(model)"
   ]
  },
  {
   "cell_type": "markdown",
   "metadata": {
    "id": "VPorSb7913od"
   },
   "source": [
    "#### Specify Loss Function and Optimizer"
   ]
  },
  {
   "cell_type": "code",
   "execution_count": null,
   "metadata": {
    "id": "fPwzf9Cj13od"
   },
   "outputs": [],
   "source": [
    "# specify loss function\n",
    "criterion = nn.CrossEntropyLoss()\n",
    "\n",
    "# specify optimizer\n",
    "optimizer = torch.optim.Adam(model.parameters())"
   ]
  },
  {
   "cell_type": "markdown",
   "metadata": {
    "id": "-MaK4PpI13od"
   },
   "source": [
    "#### Import the Early Stopping Class"
   ]
  },
  {
   "cell_type": "code",
   "execution_count": null,
   "metadata": {
    "id": "DDNV6mD613od"
   },
   "outputs": [],
   "source": [
    "# import EarlyStopping\n",
    "from pytorchtools import EarlyStopping"
   ]
  },
  {
   "cell_type": "markdown",
   "metadata": {
    "id": "t0NfDtsJ13oe"
   },
   "source": [
    "#### Train the Model using Early Stopping"
   ]
  },
  {
   "cell_type": "code",
   "execution_count": null,
   "metadata": {
    "id": "tzPlSL6513oe"
   },
   "outputs": [],
   "source": [
    "def train_model(model, batch_size, patience, n_epochs):\n",
    "\n",
    "    # to track the training loss as the model trains\n",
    "    train_losses = []\n",
    "    # to track the validation loss as the model trains\n",
    "    valid_losses = []\n",
    "    # to track the average training loss per epoch as the model trains\n",
    "    avg_train_losses = []\n",
    "    # to track the average validation loss per epoch as the model trains\n",
    "    avg_valid_losses = []\n",
    "\n",
    "    # initialize the early_stopping object\n",
    "    early_stopping = EarlyStopping(patience=patience, verbose=True)\n",
    "\n",
    "    for epoch in range(1, n_epochs + 1):\n",
    "\n",
    "        ###################\n",
    "        # train the model #\n",
    "        ###################\n",
    "        model.train() # prep model for training\n",
    "        for batch, (data, target) in enumerate(train_loader, 1):\n",
    "            # clear the gradients of all optimized variables\n",
    "            optimizer.zero_grad()\n",
    "            # forward pass: compute predicted outputs by passing inputs to the model\n",
    "            output = model(data)\n",
    "            # calculate the loss\n",
    "            loss = criterion(output, target)\n",
    "            # backward pass: compute gradient of the loss with respect to model parameters\n",
    "            loss.backward()\n",
    "            # perform a single optimization step (parameter update)\n",
    "            optimizer.step()\n",
    "            # record training loss\n",
    "            train_losses.append(loss.item())\n",
    "\n",
    "        ######################\n",
    "        # validate the model #\n",
    "        ######################\n",
    "        model.eval() # prep model for evaluation\n",
    "        for data, target in valid_loader:\n",
    "            # forward pass: compute predicted outputs by passing inputs to the model\n",
    "            output = model(data)\n",
    "            # calculate the loss\n",
    "            loss = criterion(output, target)\n",
    "            # record validation loss\n",
    "            valid_losses.append(loss.item())\n",
    "\n",
    "        # print training/validation statistics\n",
    "        # calculate average loss over an epoch\n",
    "        train_loss = np.average(train_losses)\n",
    "        valid_loss = np.average(valid_losses)\n",
    "        avg_train_losses.append(train_loss)\n",
    "        avg_valid_losses.append(valid_loss)\n",
    "\n",
    "        epoch_len = len(str(n_epochs))\n",
    "\n",
    "        print_msg = (f'[{epoch:>{epoch_len}}/{n_epochs:>{epoch_len}}] ' +\n",
    "                     f'train_loss: {train_loss:.5f} ' +\n",
    "                     f'valid_loss: {valid_loss:.5f}')\n",
    "\n",
    "        print(print_msg)\n",
    "\n",
    "        # clear lists to track next epoch\n",
    "        train_losses = []\n",
    "        valid_losses = []\n",
    "\n",
    "        # early_stopping needs the validation loss to check if it has decresed,\n",
    "        # and if it has, it will make a checkpoint of the current model\n",
    "        early_stopping(valid_loss, model)\n",
    "\n",
    "        if early_stopping.early_stop:\n",
    "            print(\"Early stopping\")\n",
    "            break\n",
    "\n",
    "    # load the last checkpoint with the best model\n",
    "    model.load_state_dict(torch.load('checkpoint.pt'))\n",
    "\n",
    "    return  model, avg_train_losses, avg_valid_losses"
   ]
  },
  {
   "cell_type": "code",
   "execution_count": null,
   "metadata": {
    "colab": {
     "base_uri": "https://localhost:8080/"
    },
    "id": "hyXQyqI213oe",
    "outputId": "0a7f6098-666f-4685-b144-fd79fd600920"
   },
   "outputs": [
    {
     "name": "stdout",
     "output_type": "stream",
     "text": [
      "Downloading http://yann.lecun.com/exdb/mnist/train-images-idx3-ubyte.gz\n",
      "Downloading http://yann.lecun.com/exdb/mnist/train-images-idx3-ubyte.gz to data/MNIST/raw/train-images-idx3-ubyte.gz\n"
     ]
    },
    {
     "name": "stderr",
     "output_type": "stream",
     "text": [
      "100%|██████████| 9912422/9912422 [00:00<00:00, 125506276.70it/s]"
     ]
    },
    {
     "name": "stdout",
     "output_type": "stream",
     "text": [
      "Extracting data/MNIST/raw/train-images-idx3-ubyte.gz to data/MNIST/raw\n"
     ]
    },
    {
     "name": "stderr",
     "output_type": "stream",
     "text": [
      "\n"
     ]
    },
    {
     "name": "stdout",
     "output_type": "stream",
     "text": [
      "\n",
      "Downloading http://yann.lecun.com/exdb/mnist/train-labels-idx1-ubyte.gz\n",
      "Downloading http://yann.lecun.com/exdb/mnist/train-labels-idx1-ubyte.gz to data/MNIST/raw/train-labels-idx1-ubyte.gz\n"
     ]
    },
    {
     "name": "stderr",
     "output_type": "stream",
     "text": [
      "100%|██████████| 28881/28881 [00:00<00:00, 28972899.74it/s]\n"
     ]
    },
    {
     "name": "stdout",
     "output_type": "stream",
     "text": [
      "Extracting data/MNIST/raw/train-labels-idx1-ubyte.gz to data/MNIST/raw\n",
      "\n",
      "Downloading http://yann.lecun.com/exdb/mnist/t10k-images-idx3-ubyte.gz\n",
      "Downloading http://yann.lecun.com/exdb/mnist/t10k-images-idx3-ubyte.gz to data/MNIST/raw/t10k-images-idx3-ubyte.gz\n"
     ]
    },
    {
     "name": "stderr",
     "output_type": "stream",
     "text": [
      "100%|██████████| 1648877/1648877 [00:00<00:00, 46702804.49it/s]\n"
     ]
    },
    {
     "name": "stdout",
     "output_type": "stream",
     "text": [
      "Extracting data/MNIST/raw/t10k-images-idx3-ubyte.gz to data/MNIST/raw\n",
      "\n",
      "Downloading http://yann.lecun.com/exdb/mnist/t10k-labels-idx1-ubyte.gz\n",
      "Downloading http://yann.lecun.com/exdb/mnist/t10k-labels-idx1-ubyte.gz to data/MNIST/raw/t10k-labels-idx1-ubyte.gz\n"
     ]
    },
    {
     "name": "stderr",
     "output_type": "stream",
     "text": [
      "100%|██████████| 4542/4542 [00:00<00:00, 4345467.33it/s]\n"
     ]
    },
    {
     "name": "stdout",
     "output_type": "stream",
     "text": [
      "Extracting data/MNIST/raw/t10k-labels-idx1-ubyte.gz to data/MNIST/raw\n",
      "\n",
      "[  1/100] train_loss: 0.83323 valid_loss: 0.30383\n",
      "Validation loss decreased (inf --> 0.303829).  Saving model ...\n",
      "[  2/100] train_loss: 0.36781 valid_loss: 0.22201\n",
      "Validation loss decreased (0.303829 --> 0.222014).  Saving model ...\n",
      "[  3/100] train_loss: 0.30163 valid_loss: 0.18332\n",
      "Validation loss decreased (0.222014 --> 0.183317).  Saving model ...\n",
      "[  4/100] train_loss: 0.26037 valid_loss: 0.15427\n",
      "Validation loss decreased (0.183317 --> 0.154267).  Saving model ...\n",
      "[  5/100] train_loss: 0.23335 valid_loss: 0.13787\n",
      "Validation loss decreased (0.154267 --> 0.137873).  Saving model ...\n",
      "[  6/100] train_loss: 0.21305 valid_loss: 0.12873\n",
      "Validation loss decreased (0.137873 --> 0.128733).  Saving model ...\n",
      "[  7/100] train_loss: 0.19549 valid_loss: 0.12274\n",
      "Validation loss decreased (0.128733 --> 0.122739).  Saving model ...\n",
      "[  8/100] train_loss: 0.18632 valid_loss: 0.11435\n",
      "Validation loss decreased (0.122739 --> 0.114350).  Saving model ...\n",
      "[  9/100] train_loss: 0.17071 valid_loss: 0.11428\n",
      "Validation loss decreased (0.114350 --> 0.114278).  Saving model ...\n",
      "[ 10/100] train_loss: 0.16522 valid_loss: 0.10457\n",
      "Validation loss decreased (0.114278 --> 0.104571).  Saving model ...\n",
      "[ 11/100] train_loss: 0.16113 valid_loss: 0.10093\n",
      "Validation loss decreased (0.104571 --> 0.100928).  Saving model ...\n",
      "[ 12/100] train_loss: 0.15668 valid_loss: 0.09903\n",
      "Validation loss decreased (0.100928 --> 0.099032).  Saving model ...\n",
      "[ 13/100] train_loss: 0.15293 valid_loss: 0.10019\n",
      "EarlyStopping counter: 1 out of 20\n",
      "[ 14/100] train_loss: 0.14514 valid_loss: 0.09643\n",
      "Validation loss decreased (0.099032 --> 0.096431).  Saving model ...\n",
      "[ 15/100] train_loss: 0.13626 valid_loss: 0.09610\n",
      "Validation loss decreased (0.096431 --> 0.096097).  Saving model ...\n",
      "[ 16/100] train_loss: 0.13606 valid_loss: 0.09418\n",
      "Validation loss decreased (0.096097 --> 0.094175).  Saving model ...\n",
      "[ 17/100] train_loss: 0.13160 valid_loss: 0.09128\n",
      "Validation loss decreased (0.094175 --> 0.091281).  Saving model ...\n",
      "[ 18/100] train_loss: 0.12743 valid_loss: 0.09056\n",
      "Validation loss decreased (0.091281 --> 0.090561).  Saving model ...\n",
      "[ 19/100] train_loss: 0.12376 valid_loss: 0.08933\n",
      "Validation loss decreased (0.090561 --> 0.089329).  Saving model ...\n",
      "[ 20/100] train_loss: 0.12153 valid_loss: 0.09001\n",
      "EarlyStopping counter: 1 out of 20\n",
      "[ 21/100] train_loss: 0.12002 valid_loss: 0.09135\n",
      "EarlyStopping counter: 2 out of 20\n",
      "[ 22/100] train_loss: 0.11702 valid_loss: 0.09080\n",
      "EarlyStopping counter: 3 out of 20\n",
      "[ 23/100] train_loss: 0.11861 valid_loss: 0.08532\n",
      "Validation loss decreased (0.089329 --> 0.085318).  Saving model ...\n",
      "[ 24/100] train_loss: 0.11002 valid_loss: 0.08611\n",
      "EarlyStopping counter: 1 out of 20\n",
      "[ 25/100] train_loss: 0.11254 valid_loss: 0.08701\n",
      "EarlyStopping counter: 2 out of 20\n",
      "[ 26/100] train_loss: 0.10827 valid_loss: 0.08481\n",
      "Validation loss decreased (0.085318 --> 0.084808).  Saving model ...\n",
      "[ 27/100] train_loss: 0.10402 valid_loss: 0.08744\n",
      "EarlyStopping counter: 1 out of 20\n",
      "[ 28/100] train_loss: 0.10581 valid_loss: 0.08778\n",
      "EarlyStopping counter: 2 out of 20\n",
      "[ 29/100] train_loss: 0.10353 valid_loss: 0.08656\n",
      "EarlyStopping counter: 3 out of 20\n",
      "[ 30/100] train_loss: 0.10360 valid_loss: 0.08728\n",
      "EarlyStopping counter: 4 out of 20\n",
      "[ 31/100] train_loss: 0.09966 valid_loss: 0.08764\n",
      "EarlyStopping counter: 5 out of 20\n",
      "[ 32/100] train_loss: 0.09957 valid_loss: 0.08394\n",
      "Validation loss decreased (0.084808 --> 0.083945).  Saving model ...\n",
      "[ 33/100] train_loss: 0.09550 valid_loss: 0.08468\n",
      "EarlyStopping counter: 1 out of 20\n",
      "[ 34/100] train_loss: 0.09698 valid_loss: 0.08615\n",
      "EarlyStopping counter: 2 out of 20\n",
      "[ 35/100] train_loss: 0.09673 valid_loss: 0.08739\n",
      "EarlyStopping counter: 3 out of 20\n",
      "[ 36/100] train_loss: 0.09371 valid_loss: 0.08785\n",
      "EarlyStopping counter: 4 out of 20\n",
      "[ 37/100] train_loss: 0.09399 valid_loss: 0.08573\n",
      "EarlyStopping counter: 5 out of 20\n",
      "[ 38/100] train_loss: 0.08936 valid_loss: 0.08420\n",
      "EarlyStopping counter: 6 out of 20\n",
      "[ 39/100] train_loss: 0.09092 valid_loss: 0.08236\n",
      "Validation loss decreased (0.083945 --> 0.082359).  Saving model ...\n",
      "[ 40/100] train_loss: 0.09026 valid_loss: 0.08271\n",
      "EarlyStopping counter: 1 out of 20\n",
      "[ 41/100] train_loss: 0.08726 valid_loss: 0.08766\n",
      "EarlyStopping counter: 2 out of 20\n",
      "[ 42/100] train_loss: 0.09096 valid_loss: 0.08622\n",
      "EarlyStopping counter: 3 out of 20\n",
      "[ 43/100] train_loss: 0.09051 valid_loss: 0.08528\n",
      "EarlyStopping counter: 4 out of 20\n",
      "[ 44/100] train_loss: 0.08774 valid_loss: 0.08447\n",
      "EarlyStopping counter: 5 out of 20\n",
      "[ 45/100] train_loss: 0.08478 valid_loss: 0.08680\n",
      "EarlyStopping counter: 6 out of 20\n",
      "[ 46/100] train_loss: 0.08599 valid_loss: 0.08534\n",
      "EarlyStopping counter: 7 out of 20\n",
      "[ 47/100] train_loss: 0.08529 valid_loss: 0.08848\n",
      "EarlyStopping counter: 8 out of 20\n",
      "[ 48/100] train_loss: 0.08517 valid_loss: 0.08413\n",
      "EarlyStopping counter: 9 out of 20\n",
      "[ 49/100] train_loss: 0.08583 valid_loss: 0.08511\n",
      "EarlyStopping counter: 10 out of 20\n",
      "[ 50/100] train_loss: 0.08269 valid_loss: 0.08703\n",
      "EarlyStopping counter: 11 out of 20\n",
      "[ 51/100] train_loss: 0.07915 valid_loss: 0.08835\n",
      "EarlyStopping counter: 12 out of 20\n",
      "[ 52/100] train_loss: 0.08101 valid_loss: 0.08877\n",
      "EarlyStopping counter: 13 out of 20\n",
      "[ 53/100] train_loss: 0.08314 valid_loss: 0.08368\n",
      "EarlyStopping counter: 14 out of 20\n",
      "[ 54/100] train_loss: 0.07875 valid_loss: 0.08893\n",
      "EarlyStopping counter: 15 out of 20\n",
      "[ 55/100] train_loss: 0.08134 valid_loss: 0.08788\n",
      "EarlyStopping counter: 16 out of 20\n",
      "[ 56/100] train_loss: 0.08091 valid_loss: 0.08703\n",
      "EarlyStopping counter: 17 out of 20\n",
      "[ 57/100] train_loss: 0.07810 valid_loss: 0.08963\n",
      "EarlyStopping counter: 18 out of 20\n",
      "[ 58/100] train_loss: 0.07514 valid_loss: 0.09268\n",
      "EarlyStopping counter: 19 out of 20\n",
      "[ 59/100] train_loss: 0.07884 valid_loss: 0.08789\n",
      "EarlyStopping counter: 20 out of 20\n",
      "Early stopping\n"
     ]
    }
   ],
   "source": [
    "batch_size = 256\n",
    "n_epochs = 100\n",
    "\n",
    "train_loader, test_loader, valid_loader = create_datasets(batch_size)\n",
    "\n",
    "# early stopping patience; how long to wait after last time validation loss improved.\n",
    "patience = 20\n",
    "\n",
    "model, train_loss, valid_loss = train_model(model, batch_size, patience, n_epochs)"
   ]
  },
  {
   "cell_type": "markdown",
   "metadata": {
    "id": "nkJdMxj313of"
   },
   "source": [
    "#### Visualizing the Loss and the Early Stopping Checkpoint\n",
    "From the plot we can see that the last Early Stopping Checkpoint was saved right before the model started to overfit."
   ]
  },
  {
   "cell_type": "code",
   "execution_count": null,
   "metadata": {
    "colab": {
     "base_uri": "https://localhost:8080/",
     "height": 807
    },
    "id": "kgCRxQAg13of",
    "outputId": "502a8569-1f61-4e7f-897a-e5749477bf34"
   },
   "outputs": [
    {
     "data": {
      "image/png": "[encoded data removed]",
      "text/plain": [
       "<Figure size 1000x800 with 1 Axes>"
      ]
     },
     "metadata": {},
     "output_type": "display_data"
    }
   ],
   "source": [
    "# visualize the loss as the network trained\n",
    "fig = plt.figure(figsize=(10,8))\n",
    "plt.plot(range(1,len(train_loss)+1),train_loss, label='Training Loss')\n",
    "plt.plot(range(1,len(valid_loss)+1),valid_loss,label='Validation Loss')\n",
    "\n",
    "# find position of lowest validation loss\n",
    "minposs = valid_loss.index(min(valid_loss))+1\n",
    "plt.axvline(minposs, linestyle='--', color='r',label='Early Stopping Checkpoint')\n",
    "\n",
    "plt.xlabel('epochs')\n",
    "plt.ylabel('loss')\n",
    "plt.ylim(0, 0.5) # consistent scale\n",
    "plt.xlim(0, len(train_loss)+1) # consistent scale\n",
    "plt.grid(True)\n",
    "plt.legend()\n",
    "plt.tight_layout()\n",
    "plt.show()\n",
    "fig.savefig('loss_plot.png', bbox_inches='tight')"
   ]
  },
  {
   "cell_type": "markdown",
   "metadata": {
    "id": "coI3yj-N13of"
   },
   "source": [
    "#### Test the Trained Network"
   ]
  },
  {
   "cell_type": "code",
   "execution_count": null,
   "metadata": {
    "colab": {
     "base_uri": "https://localhost:8080/"
    },
    "id": "BucYZxTr13of",
    "outputId": "1494c40c-f33e-4bc1-9f6d-c7c7af2c0c02"
   },
   "outputs": [
    {
     "name": "stdout",
     "output_type": "stream",
     "text": [
      "Test Loss: 0.089024\n",
      "\n",
      "Test Accuracy of     0: 98% (969/979)\n",
      "Test Accuracy of     1: 99% (1122/1133)\n",
      "Test Accuracy of     2: 97% (1007/1030)\n",
      "Test Accuracy of     3: 97% (985/1008)\n",
      "Test Accuracy of     4: 97% (958/980)\n",
      "Test Accuracy of     5: 96% (863/890)\n",
      "Test Accuracy of     6: 97% (934/956)\n",
      "Test Accuracy of     7: 97% (1001/1027)\n",
      "Test Accuracy of     8: 96% (938/973)\n",
      "Test Accuracy of     9: 96% (970/1008)\n",
      "\n",
      "Test Accuracy (Overall): 97% (9747/9984)\n"
     ]
    }
   ],
   "source": [
    "# initialize lists to monitor test loss and accuracy\n",
    "test_loss = 0.0\n",
    "class_correct = list(0. for i in range(10))\n",
    "class_total = list(0. for i in range(10))\n",
    "\n",
    "model.eval() # prep model for evaluation\n",
    "\n",
    "for data, target in test_loader:\n",
    "    if len(target.data) != batch_size:\n",
    "        break\n",
    "    # forward pass: compute predicted outputs by passing inputs to the model\n",
    "    output = model(data)\n",
    "    # calculate the loss\n",
    "    loss = criterion(output, target)\n",
    "    # update test loss\n",
    "    test_loss += loss.item()*data.size(0)\n",
    "    # convert output probabilities to predicted class\n",
    "    _, pred = torch.max(output, 1)\n",
    "    # compare predictions to true label\n",
    "    correct = np.squeeze(pred.eq(target.data.view_as(pred)))\n",
    "    # calculate test accuracy for each object class\n",
    "    for i in range(batch_size):\n",
    "        label = target.data[i]\n",
    "        class_correct[label] += correct[i].item()\n",
    "        class_total[label] += 1\n",
    "\n",
    "# calculate and print avg test loss\n",
    "test_loss = test_loss/len(test_loader.dataset)\n",
    "print('Test Loss: {:.6f}\\n'.format(test_loss))\n",
    "\n",
    "for i in range(10):\n",
    "    if class_total[i] > 0:\n",
    "        print('Test Accuracy of %5s: %2d%% (%2d/%2d)' % (\n",
    "            str(i), 100 * class_correct[i] / class_total[i],\n",
    "            np.sum(class_correct[i]), np.sum(class_total[i])))\n",
    "    else:\n",
    "        print('Test Accuracy of %5s: N/A (no training examples)' % (classes[i]))\n",
    "\n",
    "print('\\nTest Accuracy (Overall): %2d%% (%2d/%2d)' % (\n",
    "    100. * np.sum(class_correct) / np.sum(class_total),\n",
    "    np.sum(class_correct), np.sum(class_total)))"
   ]
  },
  {
   "cell_type": "markdown",
   "metadata": {
    "id": "wmkUvsVd13oh"
   },
   "source": [
    "#### Visualize Sample Test Results"
   ]
  },
  {
   "cell_type": "code",
   "execution_count": null,
   "metadata": {
    "colab": {
     "base_uri": "https://localhost:8080/",
     "height": 250
    },
    "id": "5_SiPxiY13oh",
    "outputId": "b59e8133-6fa1-4851-b151-1b78a8ff6830"
   },
   "outputs": [
    {
     "data": {
      "image/png": "[encoded data removed]",
      "text/plain": [
       "<Figure size 2500x400 with 20 Axes>"
      ]
     },
     "metadata": {},
     "output_type": "display_data"
    }
   ],
   "source": [
    "# obtain one batch of test images\n",
    "dataiter = iter(test_loader)\n",
    "images, labels = next(dataiter)\n",
    "\n",
    "# get sample outputs\n",
    "output = model(images)\n",
    "# convert output probabilities to predicted class\n",
    "_, preds = torch.max(output, 1)\n",
    "# prep images for display\n",
    "images = images.numpy()\n",
    "\n",
    "# plot the images in the batch, along with predicted and true labels\n",
    "fig = plt.figure(figsize=(25, 4))\n",
    "for idx in np.arange(20):\n",
    "    ax = fig.add_subplot(2, 10, idx+1, xticks=[], yticks=[])\n",
    "    ax.imshow(np.squeeze(images[idx]), cmap='gray')\n",
    "    ax.set_title(\"{} ({})\".format(str(preds[idx].item()), str(labels[idx].item())),\n",
    "                 color=(\"green\" if preds[idx]==labels[idx] else \"red\"))"
   ]
  }
 ],
 "metadata": {
  "colab": {
   "provenance": [],
   "toc_visible": true
  },
  "kernelspec": {
   "display_name": "Python 3 (ipykernel)",
   "language": "python",
   "name": "python3"
  },
  "language_info": {
   "codemirror_mode": {
    "name": "ipython",
    "version": 3
   },
   "file_extension": ".py",
   "mimetype": "text/x-python",
   "name": "python",
   "nbconvert_exporter": "python",
   "pygments_lexer": "ipython3",
   "version": "3.11.0"
  }
 },
 "nbformat": 4,
 "nbformat_minor": 1
}
