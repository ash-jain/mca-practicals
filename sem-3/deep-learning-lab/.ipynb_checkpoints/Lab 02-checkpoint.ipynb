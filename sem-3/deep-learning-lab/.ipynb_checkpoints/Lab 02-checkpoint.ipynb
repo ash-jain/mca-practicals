{
 "cells": [
  {
   "cell_type": "markdown",
   "id": "5cabbbc0",
   "metadata": {},
   "source": [
    "#### Name - Aakash Jain.\n",
    "\n",
    "#### Roll No. - 222010019.\n",
    "\n",
    "#### Subject - Deep Learning Laboratory.\n",
    "\n",
    "#### Lab No. 2 - Implement Artificial Neural Networks: McCulloch-Pitts Neuron with AND, OR, NOR and NOT functions. Upload Jupyter Notebook."
   ]
  },
  {
   "cell_type": "markdown",
   "id": "252b00bd",
   "metadata": {},
   "source": [
    "#### 1. AND Function.\n",
    "Let x<sub>1</sub>, x<sub>2</sub>, x<sub>3</sub>... x<sub>n</sub> be the inputs, y be the output, g(x) be the aggragator function and f(g(x)) be the decision function.\n",
    "\n",
    "For the AND function:\n",
    "y = f(g(x)) = 1 if and only if g(x<sub>1</sub>, x<sub>2</sub>, x<sub>3</sub>... x<sub>n</sub>) = g(**x**) = $\\sum \\limits_{i=1}^{n} x_{i}$ = n\n",
    "else 0.  \n",
    "i.e. for AND function $\\theta$ = n\n"
   ]
  },
  {
   "cell_type": "code",
   "execution_count": 6,
   "id": "5cd891f3",
   "metadata": {},
   "outputs": [
    {
     "name": "stdout",
     "output_type": "stream",
     "text": [
      "False\n",
      "False\n",
      "False\n",
      "True\n"
     ]
    }
   ],
   "source": [
    "def AND(x):\n",
    "    for value in x:\n",
    "        if not value:\n",
    "            return False\n",
    "    return True\n",
    "#     return sum(x) == len(x)\n",
    "#     return all(x)\n",
    "\n",
    "print(AND([0, 0]))\n",
    "print(AND([0, 1]))\n",
    "print(AND([1, 0]))\n",
    "print(AND([1, 1]))"
   ]
  },
  {
   "cell_type": "markdown",
   "id": "7f478500",
   "metadata": {},
   "source": [
    "#### OR Function\n",
    "Let x<sub>1</sub>, x<sub>2</sub>, x<sub>3</sub>... x<sub>n</sub> be the inputs, y be the output, g(x) be the aggragator function and f(g(x)) be the decision function.\n",
    "\n",
    "For the OR function:\n",
    "y = f(g(x)) = 1 if and only if g(x<sub>1</sub>, x<sub>2</sub>, x<sub>3</sub>... x<sub>n</sub>) = g(**x**) = $\\sum \\limits_{i=1}^{n} x_{i}$ > 0 else 0.  \n",
    "i.e. for OR function $\\theta$ = n\n",
    "\n"
   ]
  }
 ],
 "metadata": {
  "kernelspec": {
   "display_name": "Python 3 (ipykernel)",
   "language": "python",
   "name": "python3"
  },
  "language_info": {
   "codemirror_mode": {
    "name": "ipython",
    "version": 3
   },
   "file_extension": ".py",
   "mimetype": "text/x-python",
   "name": "python",
   "nbconvert_exporter": "python",
   "pygments_lexer": "ipython3",
   "version": "3.11.0"
  }
 },
 "nbformat": 4,
 "nbformat_minor": 5
}
