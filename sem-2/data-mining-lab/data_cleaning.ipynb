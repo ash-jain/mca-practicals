{
 "cells": [
  {
   "cell_type": "code",
   "execution_count": 7,
   "id": "120ae78e",
   "metadata": {},
   "outputs": [],
   "source": [
    "import numpy as np\n",
    "import pandas as pd"
   ]
  },
  {
   "cell_type": "code",
   "execution_count": 73,
   "id": "027ba5c7",
   "metadata": {},
   "outputs": [],
   "source": [
    "df1 = pd.read_csv('./datasets/datacleaning1.csv')\n",
    "df2 = pd.read_csv('./datasets/datacleaning2.csv')"
   ]
  },
  {
   "cell_type": "code",
   "execution_count": 84,
   "id": "c211bb05",
   "metadata": {},
   "outputs": [
    {
     "data": {
      "text/plain": [
       "Index(['id', 'title', 'authors', 'venue', 'year'], dtype='object')"
      ]
     },
     "execution_count": 84,
     "metadata": {},
     "output_type": "execute_result"
    }
   ],
   "source": [
    "df1.columns"
   ]
  },
  {
   "cell_type": "code",
   "execution_count": 87,
   "id": "59bdec72",
   "metadata": {},
   "outputs": [
    {
     "name": "stdout",
     "output_type": "stream",
     "text": [
      "<class 'pandas.core.frame.DataFrame'>\n",
      "RangeIndex: 2616 entries, 0 to 2615\n",
      "Data columns (total 5 columns):\n",
      " #   Column   Non-Null Count  Dtype \n",
      "---  ------   --------------  ----- \n",
      " 0   id       2616 non-null   object\n",
      " 1   title    2616 non-null   object\n",
      " 2   authors  2398 non-null   object\n",
      " 3   venue    2405 non-null   object\n",
      " 4   year     2616 non-null   int64 \n",
      "dtypes: int64(1), object(4)\n",
      "memory usage: 102.3+ KB\n"
     ]
    }
   ],
   "source": [
    "df1.info()"
   ]
  },
  {
   "cell_type": "code",
   "execution_count": 86,
   "id": "f458413f",
   "metadata": {},
   "outputs": [
    {
     "data": {
      "text/plain": [
       "Index(['id', 'title', 'authors', 'venue', 'year'], dtype='object')"
      ]
     },
     "execution_count": 86,
     "metadata": {},
     "output_type": "execute_result"
    }
   ],
   "source": [
    "df2.columns"
   ]
  },
  {
   "cell_type": "code",
   "execution_count": 88,
   "id": "4d609f58",
   "metadata": {
    "scrolled": true
   },
   "outputs": [
    {
     "name": "stdout",
     "output_type": "stream",
     "text": [
      "<class 'pandas.core.frame.DataFrame'>\n",
      "RangeIndex: 64263 entries, 0 to 64262\n",
      "Data columns (total 5 columns):\n",
      " #   Column   Non-Null Count  Dtype  \n",
      "---  ------   --------------  -----  \n",
      " 0   id       64263 non-null  object \n",
      " 1   title    64263 non-null  object \n",
      " 2   authors  64262 non-null  object \n",
      " 3   venue    49266 non-null  object \n",
      " 4   year     29473 non-null  float64\n",
      "dtypes: float64(1), object(4)\n",
      "memory usage: 2.5+ MB\n"
     ]
    }
   ],
   "source": [
    "df2.info()"
   ]
  },
  {
   "cell_type": "code",
   "execution_count": 92,
   "id": "bd0b6e05",
   "metadata": {},
   "outputs": [
    {
     "name": "stdout",
     "output_type": "stream",
     "text": [
      "<class 'pandas.core.frame.DataFrame'>\n",
      "Index: 2394 entries, 0 to 2614\n",
      "Data columns (total 5 columns):\n",
      " #   Column   Non-Null Count  Dtype \n",
      "---  ------   --------------  ----- \n",
      " 0   id       2394 non-null   object\n",
      " 1   title    2394 non-null   object\n",
      " 2   authors  2394 non-null   object\n",
      " 3   venue    2394 non-null   object\n",
      " 4   year     2394 non-null   int64 \n",
      "dtypes: int64(1), object(4)\n",
      "memory usage: 112.2+ KB\n"
     ]
    }
   ],
   "source": [
    "df1.dropna(inplace=True)\n",
    "df1.info()"
   ]
  },
  {
   "cell_type": "code",
   "execution_count": 97,
   "id": "532d1a5c",
   "metadata": {},
   "outputs": [
    {
     "name": "stdout",
     "output_type": "stream",
     "text": [
      "<class 'pandas.core.frame.DataFrame'>\n",
      "Index: 64262 entries, 0 to 64262\n",
      "Data columns (total 5 columns):\n",
      " #   Column   Non-Null Count  Dtype  \n",
      "---  ------   --------------  -----  \n",
      " 0   id       64262 non-null  object \n",
      " 1   title    64262 non-null  object \n",
      " 2   authors  64262 non-null  object \n",
      " 3   venue    49266 non-null  object \n",
      " 4   year     29473 non-null  float64\n",
      "dtypes: float64(1), object(4)\n",
      "memory usage: 2.9+ MB\n"
     ]
    }
   ],
   "source": [
    "df2 = df2[df2['authors'].notna()]\n",
    "df2.info()"
   ]
  },
  {
   "cell_type": "code",
   "execution_count": 117,
   "id": "5001ea95",
   "metadata": {},
   "outputs": [
    {
     "name": "stdout",
     "output_type": "stream",
     "text": [
      "<class 'pandas.core.frame.DataFrame'>\n",
      "Index: 66656 entries, 0 to 64262\n",
      "Data columns (total 5 columns):\n",
      " #   Column   Non-Null Count  Dtype  \n",
      "---  ------   --------------  -----  \n",
      " 0   id       66656 non-null  object \n",
      " 1   title    66656 non-null  object \n",
      " 2   authors  66656 non-null  object \n",
      " 3   venue    51660 non-null  object \n",
      " 4   year     31867 non-null  float64\n",
      "dtypes: float64(1), object(4)\n",
      "memory usage: 3.1+ MB\n"
     ]
    }
   ],
   "source": [
    "df = pd.concat((df1, df2))\n",
    "df.info()"
   ]
  },
  {
   "cell_type": "code",
   "execution_count": 118,
   "id": "7b5a9413",
   "metadata": {},
   "outputs": [
    {
     "data": {
      "text/html": [
       "<div>\n",
       "<style scoped>\n",
       "    .dataframe tbody tr th:only-of-type {\n",
       "        vertical-align: middle;\n",
       "    }\n",
       "\n",
       "    .dataframe tbody tr th {\n",
       "        vertical-align: top;\n",
       "    }\n",
       "\n",
       "    .dataframe thead th {\n",
       "        text-align: right;\n",
       "    }\n",
       "</style>\n",
       "<table border=\"1\" class=\"dataframe\">\n",
       "  <thead>\n",
       "    <tr style=\"text-align: right;\">\n",
       "      <th></th>\n",
       "      <th>title</th>\n",
       "      <th>authors</th>\n",
       "      <th>venue</th>\n",
       "      <th>year</th>\n",
       "    </tr>\n",
       "  </thead>\n",
       "  <tbody>\n",
       "    <tr>\n",
       "      <th>64253</th>\n",
       "      <td>Indexing and Query XML, Data for Regular Path ...</td>\n",
       "      <td>MB LI Q</td>\n",
       "      <td>Proceedings of the International Conference on...</td>\n",
       "      <td>NaN</td>\n",
       "    </tr>\n",
       "    <tr>\n",
       "      <th>64254</th>\n",
       "      <td>Compiling Devices</td>\n",
       "      <td>J de Kleer</td>\n",
       "      <td>submitted for publication,</td>\n",
       "      <td>NaN</td>\n",
       "    </tr>\n",
       "    <tr>\n",
       "      <th>64255</th>\n",
       "      <td>Full text pdf format Pdf (1.48 MB)Source Inter...</td>\n",
       "      <td>L Fegaras, C Srinivasan, A Rajendran, D Maier</td>\n",
       "      <td>Proceedings of the 2000 ACM SIGMOD internation...</td>\n",
       "      <td>2000.0</td>\n",
       "    </tr>\n",
       "    <tr>\n",
       "      <th>64256</th>\n",
       "      <td>308 p., index, cartes, bibliogr</td>\n",
       "      <td>LPE Ltd</td>\n",
       "      <td>NaN</td>\n",
       "      <td>2002.0</td>\n",
       "    </tr>\n",
       "    <tr>\n",
       "      <th>64257</th>\n",
       "      <td>The Mobility Workbench| a tool for the-calculus</td>\n",
       "      <td>B Victor, F Moller</td>\n",
       "      <td>Proceedings of</td>\n",
       "      <td>NaN</td>\n",
       "    </tr>\n",
       "    <tr>\n",
       "      <th>64258</th>\n",
       "      <td>Theophylline toxicity.</td>\n",
       "      <td>DS Cooling</td>\n",
       "      <td>Journal of Emergency Medicine,</td>\n",
       "      <td>1993.0</td>\n",
       "    </tr>\n",
       "    <tr>\n",
       "      <th>64259</th>\n",
       "      <td>Source ACM Transactions on Database Systems (T...</td>\n",
       "      <td>RW Taylor</td>\n",
       "      <td>ACM Transactions on Database Systems (TODS),</td>\n",
       "      <td>1983.0</td>\n",
       "    </tr>\n",
       "    <tr>\n",
       "      <th>64260</th>\n",
       "      <td>Range Nesting: A Fast Method to Evaluate Quant...</td>\n",
       "      <td>M Jarke, J Koch</td>\n",
       "      <td>NaN</td>\n",
       "      <td>NaN</td>\n",
       "    </tr>\n",
       "    <tr>\n",
       "      <th>64261</th>\n",
       "      <td>Source ACM Transactions on Database Systems (T...</td>\n",
       "      <td>W Kim</td>\n",
       "      <td>ACM Transactions on Database Systems (TODS),</td>\n",
       "      <td>1993.0</td>\n",
       "    </tr>\n",
       "    <tr>\n",
       "      <th>64262</th>\n",
       "      <td>A Declarative Approach to Optimize Bulk Loadin...</td>\n",
       "      <td>S Amer-Yahia, S Cluet</td>\n",
       "      <td>ACM Transactions on Database Systems,</td>\n",
       "      <td>2004.0</td>\n",
       "    </tr>\n",
       "  </tbody>\n",
       "</table>\n",
       "</div>"
      ],
      "text/plain": [
       "                                                   title   \n",
       "64253  Indexing and Query XML, Data for Regular Path ...  \\\n",
       "64254                                  Compiling Devices   \n",
       "64255  Full text pdf format Pdf (1.48 MB)Source Inter...   \n",
       "64256                    308 p., index, cartes, bibliogr   \n",
       "64257    The Mobility Workbench| a tool for the-calculus   \n",
       "64258                             Theophylline toxicity.   \n",
       "64259  Source ACM Transactions on Database Systems (T...   \n",
       "64260  Range Nesting: A Fast Method to Evaluate Quant...   \n",
       "64261  Source ACM Transactions on Database Systems (T...   \n",
       "64262  A Declarative Approach to Optimize Bulk Loadin...   \n",
       "\n",
       "                                             authors   \n",
       "64253                                        MB LI Q  \\\n",
       "64254                                     J de Kleer   \n",
       "64255  L Fegaras, C Srinivasan, A Rajendran, D Maier   \n",
       "64256                                        LPE Ltd   \n",
       "64257                             B Victor, F Moller   \n",
       "64258                                     DS Cooling   \n",
       "64259                                      RW Taylor   \n",
       "64260                                M Jarke, J Koch   \n",
       "64261                                          W Kim   \n",
       "64262                          S Amer-Yahia, S Cluet   \n",
       "\n",
       "                                                   venue    year  \n",
       "64253  Proceedings of the International Conference on...     NaN  \n",
       "64254                         submitted for publication,     NaN  \n",
       "64255  Proceedings of the 2000 ACM SIGMOD internation...  2000.0  \n",
       "64256                                                NaN  2002.0  \n",
       "64257                                     Proceedings of     NaN  \n",
       "64258                     Journal of Emergency Medicine,  1993.0  \n",
       "64259       ACM Transactions on Database Systems (TODS),  1983.0  \n",
       "64260                                                NaN     NaN  \n",
       "64261       ACM Transactions on Database Systems (TODS),  1993.0  \n",
       "64262              ACM Transactions on Database Systems,  2004.0  "
      ]
     },
     "execution_count": 118,
     "metadata": {},
     "output_type": "execute_result"
    }
   ],
   "source": [
    "df.drop(columns='id', inplace=True)\n",
    "df.tail(10)"
   ]
  },
  {
   "cell_type": "code",
   "execution_count": 119,
   "id": "dd079d1e",
   "metadata": {},
   "outputs": [
    {
     "data": {
      "text/html": [
       "<div>\n",
       "<style scoped>\n",
       "    .dataframe tbody tr th:only-of-type {\n",
       "        vertical-align: middle;\n",
       "    }\n",
       "\n",
       "    .dataframe tbody tr th {\n",
       "        vertical-align: top;\n",
       "    }\n",
       "\n",
       "    .dataframe thead th {\n",
       "        text-align: right;\n",
       "    }\n",
       "</style>\n",
       "<table border=\"1\" class=\"dataframe\">\n",
       "  <thead>\n",
       "    <tr style=\"text-align: right;\">\n",
       "      <th></th>\n",
       "      <th>title</th>\n",
       "      <th>authors</th>\n",
       "      <th>venue</th>\n",
       "      <th>year</th>\n",
       "    </tr>\n",
       "  </thead>\n",
       "  <tbody>\n",
       "    <tr>\n",
       "      <th>64253</th>\n",
       "      <td>Indexing and Query XML, Data for Regular Path ...</td>\n",
       "      <td>MB LI Q</td>\n",
       "      <td>Proceedings of the International Conference on...</td>\n",
       "      <td>NaN</td>\n",
       "    </tr>\n",
       "    <tr>\n",
       "      <th>64254</th>\n",
       "      <td>Compiling Devices</td>\n",
       "      <td>J de Kleer</td>\n",
       "      <td>submitted for publication,</td>\n",
       "      <td>NaN</td>\n",
       "    </tr>\n",
       "    <tr>\n",
       "      <th>64255</th>\n",
       "      <td>Full text pdf format Pdf (1.48 MB)Source Inter...</td>\n",
       "      <td>L Fegaras, C Srinivasan, A Rajendran, D Maier</td>\n",
       "      <td>Proceedings of the 2000 ACM SIGMOD internation...</td>\n",
       "      <td>2000.0</td>\n",
       "    </tr>\n",
       "    <tr>\n",
       "      <th>64256</th>\n",
       "      <td>308 p., index, cartes, bibliogr</td>\n",
       "      <td>LPE Ltd</td>\n",
       "      <td>NaN</td>\n",
       "      <td>2002.0</td>\n",
       "    </tr>\n",
       "    <tr>\n",
       "      <th>64257</th>\n",
       "      <td>The Mobility Workbench| a tool for the-calculus</td>\n",
       "      <td>B Victor, F Moller</td>\n",
       "      <td>Proceedings of</td>\n",
       "      <td>NaN</td>\n",
       "    </tr>\n",
       "    <tr>\n",
       "      <th>64258</th>\n",
       "      <td>Theophylline toxicity.</td>\n",
       "      <td>DS Cooling</td>\n",
       "      <td>Journal of Emergency Medicine,</td>\n",
       "      <td>1993.0</td>\n",
       "    </tr>\n",
       "    <tr>\n",
       "      <th>64259</th>\n",
       "      <td>Source ACM Transactions on Database Systems (T...</td>\n",
       "      <td>RW Taylor</td>\n",
       "      <td>ACM Transactions on Database Systems (TODS),</td>\n",
       "      <td>1983.0</td>\n",
       "    </tr>\n",
       "    <tr>\n",
       "      <th>64260</th>\n",
       "      <td>Range Nesting: A Fast Method to Evaluate Quant...</td>\n",
       "      <td>M Jarke, J Koch</td>\n",
       "      <td>NaN</td>\n",
       "      <td>NaN</td>\n",
       "    </tr>\n",
       "    <tr>\n",
       "      <th>64261</th>\n",
       "      <td>Source ACM Transactions on Database Systems (T...</td>\n",
       "      <td>W Kim</td>\n",
       "      <td>ACM Transactions on Database Systems (TODS),</td>\n",
       "      <td>1993.0</td>\n",
       "    </tr>\n",
       "    <tr>\n",
       "      <th>64262</th>\n",
       "      <td>A Declarative Approach to Optimize Bulk Loadin...</td>\n",
       "      <td>S Amer-Yahia, S Cluet</td>\n",
       "      <td>ACM Transactions on Database Systems,</td>\n",
       "      <td>2004.0</td>\n",
       "    </tr>\n",
       "  </tbody>\n",
       "</table>\n",
       "</div>"
      ],
      "text/plain": [
       "                                                   title   \n",
       "64253  Indexing and Query XML, Data for Regular Path ...  \\\n",
       "64254                                  Compiling Devices   \n",
       "64255  Full text pdf format Pdf (1.48 MB)Source Inter...   \n",
       "64256                    308 p., index, cartes, bibliogr   \n",
       "64257    The Mobility Workbench| a tool for the-calculus   \n",
       "64258                             Theophylline toxicity.   \n",
       "64259  Source ACM Transactions on Database Systems (T...   \n",
       "64260  Range Nesting: A Fast Method to Evaluate Quant...   \n",
       "64261  Source ACM Transactions on Database Systems (T...   \n",
       "64262  A Declarative Approach to Optimize Bulk Loadin...   \n",
       "\n",
       "                                             authors   \n",
       "64253                                        MB LI Q  \\\n",
       "64254                                     J de Kleer   \n",
       "64255  L Fegaras, C Srinivasan, A Rajendran, D Maier   \n",
       "64256                                        LPE Ltd   \n",
       "64257                             B Victor, F Moller   \n",
       "64258                                     DS Cooling   \n",
       "64259                                      RW Taylor   \n",
       "64260                                M Jarke, J Koch   \n",
       "64261                                          W Kim   \n",
       "64262                          S Amer-Yahia, S Cluet   \n",
       "\n",
       "                                                   venue    year  \n",
       "64253  Proceedings of the International Conference on...     NaN  \n",
       "64254                         submitted for publication,     NaN  \n",
       "64255  Proceedings of the 2000 ACM SIGMOD internation...  2000.0  \n",
       "64256                                                NaN  2002.0  \n",
       "64257                                     Proceedings of     NaN  \n",
       "64258                     Journal of Emergency Medicine,  1993.0  \n",
       "64259       ACM Transactions on Database Systems (TODS),  1983.0  \n",
       "64260                                                NaN     NaN  \n",
       "64261       ACM Transactions on Database Systems (TODS),  1993.0  \n",
       "64262              ACM Transactions on Database Systems,  2004.0  "
      ]
     },
     "execution_count": 119,
     "metadata": {},
     "output_type": "execute_result"
    }
   ],
   "source": [
    "df['title'].str.capitalize()\n",
    "df.tail(10)"
   ]
  }
 ],
 "metadata": {
  "kernelspec": {
   "display_name": "Python 3 (ipykernel)",
   "language": "python",
   "name": "python3"
  },
  "language_info": {
   "codemirror_mode": {
    "name": "ipython",
    "version": 3
   },
   "file_extension": ".py",
   "mimetype": "text/x-python",
   "name": "python",
   "nbconvert_exporter": "python",
   "pygments_lexer": "ipython3",
   "version": "3.11.0"
  }
 },
 "nbformat": 4,
 "nbformat_minor": 5
}
